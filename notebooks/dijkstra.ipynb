{
 "cells": [
  {
   "cell_type": "code",
   "execution_count": 1,
   "id": "41b296af",
   "metadata": {},
   "outputs": [],
   "source": [
    "from numpy import argmin\n",
    "\n",
    "class Node():\n",
    "  def __init__(self,label):\n",
    "    self.Label = label\n",
    "    self.Visited = False\n",
    "    self.Arcs = []\n",
    "    self.Distance = float(\"inf\")\n",
    "\n",
    "class Arc():\n",
    "  def __init__(self,orig,dest,cost):\n",
    "    self.Orig = orig\n",
    "    self.Dest = dest\n",
    "    self.Cost = cost"
   ]
  },
  {
   "cell_type": "code",
   "execution_count": 2,
   "id": "a04017a7",
   "metadata": {},
   "outputs": [],
   "source": [
    "def DijkstraSolver(root):\n",
    "\n",
    "  root.Distance = 0\n",
    "  node = root\n",
    "  \n",
    "  while True:\n",
    "  \n",
    "    arcsToNotVisited = [\n",
    "      arc for arc in node.Arcs if not arc.Dest.Visited]\n",
    "    \n",
    "    if not arcsToNotVisited:\n",
    "      break\n",
    "    \n",
    "    for arc in arcsToNotVisited:\n",
    "      d = node.Distance + arc.Cost\n",
    "      if d < arc.Dest.Distance:\n",
    "        arc.Dest.Distance = d\n",
    "    node.Visited = True\n",
    "  \n",
    "    idx = argmin([arc.Dest.Distance for arc in arcsToNotVisited])\n",
    "    node = arcsToNotVisited[idx].Dest"
   ]
  },
  {
   "cell_type": "code",
   "execution_count": 3,
   "id": "ed588715",
   "metadata": {},
   "outputs": [],
   "source": [
    "n1 = Node(\"n1\")\n",
    "n2 = Node(\"n2\")\n",
    "n3 = Node(\"n3\")\n",
    "n4 = Node(\"n4\")\n",
    "n5 = Node(\"n5\")\n",
    "n6 = Node(\"n6\")\n",
    "\n",
    "n1.Arcs.append(Arc(n1,n2,7))\n",
    "n1.Arcs.append(Arc(n1,n3,9))\n",
    "n1.Arcs.append(Arc(n1,n6,14))\n",
    "\n",
    "n2.Arcs.append(Arc(n2,n1,7))\n",
    "n2.Arcs.append(Arc(n2,n3,10))\n",
    "n2.Arcs.append(Arc(n2,n4,15))\n",
    "\n",
    "n3.Arcs.append(Arc(n3,n1,9))\n",
    "n3.Arcs.append(Arc(n3,n2,10))\n",
    "n3.Arcs.append(Arc(n3,n4,11))\n",
    "n3.Arcs.append(Arc(n3,n6,2))\n",
    "\n",
    "n4.Arcs.append(Arc(n4,n2,15))\n",
    "n4.Arcs.append(Arc(n4,n3,11))\n",
    "n4.Arcs.append(Arc(n4,n5,6))\n",
    "\n",
    "n5.Arcs.append(Arc(n5,n4,6))\n",
    "n5.Arcs.append(Arc(n5,n6,9))\n",
    "\n",
    "n6.Arcs.append(Arc(n6,n1,14))\n",
    "n6.Arcs.append(Arc(n6,n3,2))\n",
    "n6.Arcs.append(Arc(n6,n5,9))\n",
    "\n",
    "Nodes = [n1,n2,n3,n4,n5,n6]\n",
    "\n",
    "DijkstraSolver(root=n1)"
   ]
  },
  {
   "cell_type": "code",
   "execution_count": 4,
   "id": "a2c7a8ec",
   "metadata": {},
   "outputs": [
    {
     "name": "stdout",
     "output_type": "stream",
     "text": [
      "n1 0\n",
      "n2 7\n",
      "n3 9\n",
      "n4 20\n",
      "n5 20\n",
      "n6 11\n"
     ]
    }
   ],
   "source": [
    "for node in Nodes:\n",
    "  print(node.Label,node.Distance)"
   ]
  }
 ],
 "metadata": {
  "kernelspec": {
   "display_name": "Python 3.10.2 64-bit",
   "language": "python",
   "name": "python3102jvsc74a57bd0e7370f93d1d0cde622a1f8e1c04877d8463912d04d973331ad4851f04de6915a"
  },
  "language_info": {
   "codemirror_mode": {
    "name": "ipython",
    "version": 3
   },
   "file_extension": ".py",
   "mimetype": "text/x-python",
   "name": "python",
   "nbconvert_exporter": "python",
   "pygments_lexer": "ipython3",
   "version": "3.10.2"
  }
 },
 "nbformat": 4,
 "nbformat_minor": 5
}
